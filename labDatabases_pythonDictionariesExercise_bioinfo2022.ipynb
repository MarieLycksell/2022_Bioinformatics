{
  "nbformat": 4,
  "nbformat_minor": 0,
  "metadata": {
    "colab": {
      "name": "pythonDictionariesExercise_bioinfo2022.ipynb",
      "provenance": [],
      "authorship_tag": "ABX9TyNxZPGaMUZLedzoisNHXKVa",
      "include_colab_link": true
    },
    "kernelspec": {
      "name": "python3",
      "display_name": "Python 3"
    },
    "language_info": {
      "name": "python"
    }
  },
  "cells": [
    {
      "cell_type": "markdown",
      "metadata": {
        "id": "view-in-github",
        "colab_type": "text"
      },
      "source": [
        "<a href=\"https://colab.research.google.com/github/MarieLycksell/2022_Bioinformatics/blob/main/labDatabases_pythonDictionariesExercise_bioinfo2022.ipynb\" target=\"_parent\"><img src=\"https://colab.research.google.com/assets/colab-badge.svg\" alt=\"Open In Colab\"/></a>"
      ]
    },
    {
      "cell_type": "markdown",
      "source": [
        "It is common that you will need to read in external files into Python in order to be able to analyse the data there in, be the data text based such as sequence alignments or number based such as when you've been tracking the value of one parameter as a function of another.\n",
        "\n",
        "When using colab you need to upload the file that you want to read in, so let's upload the *flowers.txt*, which is a sequence alignment in the fasta-format. \n",
        "\n",
        "If the uploading gives an error, try in a different browser.\n"
      ],
      "metadata": {
        "id": "50kGcIC1ENB3"
      }
    },
    {
      "cell_type": "code",
      "execution_count": null,
      "metadata": {
        "id": "vz-jH8T_Uk2c"
      },
      "outputs": [],
      "source": [
        "from google.colab import files\n",
        "\n",
        "uploaded = files.upload()\n",
        "\n",
        "for fn in uploaded.keys():\n",
        "  print('User uploaded file \"{name}\" with length {length} bytes'.format(\n",
        "      name=fn, length=len(uploaded[fn])))"
      ]
    },
    {
      "cell_type": "markdown",
      "source": [
        "Now that the file is uploaded we can load it into Python using the command open()."
      ],
      "metadata": {
        "id": "QrWZ6V-ZElRC"
      }
    },
    {
      "cell_type": "code",
      "source": [
        "flowersFile = open('flowers.txt')\n",
        "flowersFile"
      ],
      "metadata": {
        "id": "J6vWQy2TErfa"
      },
      "execution_count": null,
      "outputs": []
    },
    {
      "cell_type": "markdown",
      "source": [
        "Python now has acess to the file, but we aren't accessing it's content just yet as we see from the output from trying to print what is in *flowersFile*. To get at the content we are going to have Python read *flowersFile* and store it in a list which we name *flowersList*."
      ],
      "metadata": {
        "id": "JRnlsFKWE2wm"
      }
    },
    {
      "cell_type": "code",
      "source": [
        "flowersList = file.read()\n",
        "flowersList"
      ],
      "metadata": {
        "id": "QynSTtt_FJC9"
      },
      "execution_count": null,
      "outputs": []
    },
    {
      "cell_type": "markdown",
      "source": [
        "This has resulted in the full content of *flowers.txt* being stored in data as a single string. We can work with this, but it would be much more practical if we had a list of stings where each string was a line from the file.\n",
        "\n",
        "If you compare the string that we now has as *data* with how the content of *flowers.txt* looks when you open it in a plain text reader, you can see that where there is *\\n* where there should be a linebreak. *\\n* signals the linebreak, so there is a Python function which can apply this information and yield separate stings for separate lines. So let's apply that to the string we have, overwriting *flowersList* with this new version."
      ],
      "metadata": {
        "id": "T9Ihsvp9FQEa"
      }
    },
    {
      "cell_type": "code",
      "source": [
        "flowersList = flowersList.splitlines()\n",
        "flowersList"
      ],
      "metadata": {
        "id": "IeJftqCSFRwC"
      },
      "execution_count": null,
      "outputs": []
    },
    {
      "cell_type": "markdown",
      "source": [
        "Now we have something fairly sensible to work with, but given that half of the list items are essentialy labels for the following item there are better data formats than a list to store the data as. The *dictionary* format where each value is associated with a key is suited for this situation. In this example the sequences would be the values and the fasta headerlines with where the sequences are from would be the keys.\n",
        "\n",
        "Dictionaries are created using curly brackets around the pairs of keys and values. Keys and values are separated by : like *key:value*, and pairs of keys and values are comma separated.\n",
        "\n",
        "We're now going to put our data into the dictionary format. This is something you could do manually, but if you were dealing with a dataset larger than this that would be very impractical. So we are going to construct a loop to do the work for us. Now, there are many ways in which such a loop could be constructed, but to get it right you need to be familiar with your data to the point that you can unambigiously tell which entries in the list should be used as keys and which should be used as values."
      ],
      "metadata": {
        "id": "ItM7h0-YFU34"
      }
    },
    {
      "cell_type": "code",
      "source": [
        "flowersDict = {} #Creating a empty dictionary called \"flowerDict\"\n",
        "\n",
        "#Doing a for-loop which will go over all of the listitems in data\n",
        "for i in range(0,len(flowersList)): #i is going to be a number starting from 0 and increasing until it reaches the length of our data list\n",
        "  #We know that the first entry, entry 0, and every other entry there after are our keys, so if i is an even number data[i] is going to return what we should use as a key and data[i+1] as the associated value.\n",
        "  if i%2 == 0: #So here we use an if-statement and check if i is odd or even by using i modulus 2 to see if i is evenly dividable by 2.\n",
        "    key = flowersList[i]\n",
        "    value = flowersList[i+1]\n",
        "    flowersDict[key] = value #Adding our pair of key and value to our dictionary\n",
        "\n",
        "flowersDict"
      ],
      "metadata": {
        "id": "750WXHdDFb4V"
      },
      "execution_count": null,
      "outputs": []
    },
    {
      "cell_type": "markdown",
      "source": [
        "We now have a dictionary called *flowersDict* from which we can acceess the sequence for a flower by calling *flowersDict* and the name of the flower that we want to have the entry for. \n",
        "\n",
        "Compare how you get the yellow flower sequence from the list with how you get it from the dictionary. In the lab quiz on Canvas, answer the follow-up questions."
      ],
      "metadata": {
        "id": "kj5UuLfkFsUL"
      }
    },
    {
      "cell_type": "code",
      "source": [
        "flowersList[n] #Change n to the number that will give you the sequence for yellow flower from the list of our data"
      ],
      "metadata": {
        "id": "HEaZpst3GSWs"
      },
      "execution_count": null,
      "outputs": []
    },
    {
      "cell_type": "code",
      "source": [
        "flowersDict[k] #Change k to the key that will give you the sequence for the yellow flower from the dictionary"
      ],
      "metadata": {
        "id": "iCWJ0ct1GYQA"
      },
      "execution_count": null,
      "outputs": []
    },
    {
      "cell_type": "markdown",
      "source": [
        "What we have in our *flowersDict* dictionary is an alignment of sequences representing the flowers, which is why there are gaps (represented by -) in the sequences. How many gaps are there in total in this alignment?"
      ],
      "metadata": {
        "id": "kL1eT8XSGdig"
      }
    },
    {
      "cell_type": "code",
      "source": [
        "gaps = 0 #This variable keeps track of how many gaps we've counted\n",
        "\n",
        "#Change 'something' and 'somethingElse' to make this loop work\n",
        "for entry in something:\n",
        "  for c in something[somethingElse]:\n",
        "    if c == '-':\n",
        "      gaps = gaps + 1\n",
        "\n",
        "gaps"
      ],
      "metadata": {
        "id": "2oxoJo5eGqhZ"
      },
      "execution_count": null,
      "outputs": []
    }
  ]
}