{
  "nbformat": 4,
  "nbformat_minor": 0,
  "metadata": {
    "colab": {
      "name": "dendropyExercise.ipynb",
      "provenance": [],
      "authorship_tag": "ABX9TyPREddl5p+vevs8XBjiBA0O",
      "include_colab_link": true
    },
    "kernelspec": {
      "name": "python3",
      "display_name": "Python 3"
    },
    "language_info": {
      "name": "python"
    }
  },
  "cells": [
    {
      "cell_type": "markdown",
      "metadata": {
        "id": "view-in-github",
        "colab_type": "text"
      },
      "source": [
        "<a href=\"https://colab.research.google.com/github/MarieLycksell/2022_Bioinformatics/blob/main/labPhylogeny_dendropyExercise_bioinfo2022.ipynb\" target=\"_parent\"><img src=\"https://colab.research.google.com/assets/colab-badge.svg\" alt=\"Open In Colab\"/></a>"
      ]
    },
    {
      "cell_type": "markdown",
      "source": [
        "DentroPy (https://dendropy.org/) is a python library for phylogeny, and we're going to use it to do a little bit of phylogenetic computations in python.\n",
        "\n",
        "First we need to install it to our Colab instance and import it to our python environment."
      ],
      "metadata": {
        "id": "qf6bThodyHt5"
      }
    },
    {
      "cell_type": "code",
      "source": [
        "!python3 -m pip install -U dendropy\n",
        "import dendropy as den"
      ],
      "metadata": {
        "id": "97TEf8h9zCTe"
      },
      "execution_count": null,
      "outputs": []
    },
    {
      "cell_type": "markdown",
      "source": [
        "Upload a file with all the aligned sequences for the \"dino\" exercise in the quiz."
      ],
      "metadata": {
        "id": "Ho0sBpPC2fF3"
      }
    },
    {
      "cell_type": "code",
      "source": [
        "from google.colab import files\n",
        "\n",
        "uploaded = files.upload()\n",
        "\n",
        "for fn in uploaded.keys():\n",
        "  print('User uploaded file \"{name}\" with length {length} bytes'.format(\n",
        "      name=fn, length=len(uploaded[fn])))"
      ],
      "metadata": {
        "id": "-GELbXNezd_s"
      },
      "execution_count": null,
      "outputs": []
    },
    {
      "cell_type": "markdown",
      "source": [
        "Now we can read in the content of this fasta file using dendropy, separating the content into one object containing the taxon lables and one containing the DNA sequences."
      ],
      "metadata": {
        "id": "vsOkBDrM2wdW"
      }
    },
    {
      "cell_type": "code",
      "source": [
        "taxa = den.TaxonNamespace() #Empty list of taxa\n",
        "dna = den.DnaCharacterMatrix.get(\n",
        "    path=\"dino_all.fasta\", #Specifying which file to read\n",
        "    schema=\"fasta\", #Specifying the type of file\n",
        "    taxon_namespace=taxa) #Specifying that the taxon lables from the file should be added to the list we named \"taxa\"\n",
        "\n",
        "print(taxa)"
      ],
      "metadata": {
        "id": "e92ofEXf226E"
      },
      "execution_count": null,
      "outputs": []
    },
    {
      "cell_type": "markdown",
      "source": [
        "The character matrix data objects of dendropy are an interesting data type in that it has a behaviour similar to both a list and a dictionary. You can call an entry from the character matrix using either the index of the entry in the matrix or using the taxon lable of that entry.\n",
        "\n",
        "Edit this block of code to check that you are indeed getting the same DNA sequence when retrieving it from the character matrix using index or taxon label."
      ],
      "metadata": {
        "id": "9j0mcWuY7cEn"
      }
    },
    {
      "cell_type": "code",
      "source": [
        "sl = str(dna[3]) #Creating a string of a character matrix entry using the index of the entry\n",
        "sd = str(dna['Human']) #Creating a string of a character matrix entry using the taxonlable of the entry\n",
        "\n",
        "if CHANGE HERE: #Formulate the logical test to check if the string are identical\n",
        "  print('The same sequence was retrieved')\n",
        "else:\n",
        "  print('Different sequences were retrived')\n"
      ],
      "metadata": {
        "id": "N4CqE68F6WJY"
      },
      "execution_count": null,
      "outputs": []
    },
    {
      "cell_type": "markdown",
      "source": [
        "As we have access to all of the sequences, we can utilize python to calculate the distance matrix for us. To do this we are going to utilize the Numpy library (https://numpy.org/), which is a common python library to use for doing math."
      ],
      "metadata": {
        "id": "eCADadJnCpwd"
      }
    },
    {
      "cell_type": "code",
      "source": [
        "import numpy as np"
      ],
      "metadata": {
        "id": "NKGqFEkCDmRA"
      },
      "execution_count": 6,
      "outputs": []
    },
    {
      "cell_type": "markdown",
      "source": [
        "Numpy handles numbers in a format called arrays. Numpy arrays can roughtly be thought of as vectors from linear algebra. Matrices can also be expressed as arrays by having an array where the entries are themselves arrays. When calling a specific entry from an array that could be described as a 2D matrix, one first specify the desired row, followed by the desired column."
      ],
      "metadata": {
        "id": "N7Y6m8WhivP_"
      }
    },
    {
      "cell_type": "code",
      "source": [
        "#Making an expample array\n",
        "a = np.asarray([[1,2,3],\n",
        "                [4,5,6],\n",
        "                [7,8,9]])\n",
        "\n",
        "print('Our \"matrix\"')\n",
        "print(a)\n",
        "\n",
        "print('The first entry in a is itself an array, the first row in our matrix')\n",
        "print(a[0]) #Remember that Python starts counting with 0\n",
        "\n",
        "print('The first element in the third row is')\n",
        "print(a[2,0]) #First number specifiec desired row, the second the desired column"
      ],
      "metadata": {
        "id": "U3RFw4mBixK-"
      },
      "execution_count": null,
      "outputs": []
    },
    {
      "cell_type": "markdown",
      "source": [
        "Now that we are familiar with how to handle a matrix expressed as a numpy array we can start constructing a distance matrix. We are going to define a function for calculating the distance matrix, then we'll let this function operate on our character matrix to get our distance matrix.\n",
        "\n",
        "Update the code so that the Hamming distance is calculated."
      ],
      "metadata": {
        "id": "fw9WZGsOD5kz"
      }
    },
    {
      "cell_type": "code",
      "source": [
        "def hamming(characterMatrix):\n",
        "  n = len(characterMatrix) #Setting n as the nr of taxa\n",
        "  D = np.zeros((n,n)) #Making a matrix of zeors with correct dimensions\n",
        "  taxa = [] #List of taxa\n",
        "  for i in range(0,n-1):\n",
        "    seq1 = str(characterMatrix[i])\n",
        "    for j in range(i+1,n):\n",
        "      seq2 = str(characterMatrix[j])\n",
        "      dist = 0 #Variable to measure the distance between seq1 and seq2. Initial assumption that they are the same - will be updated\n",
        "      if len(seq1) != len(seq2): #Checking if the sequences have the same length\n",
        "        print('Error! Different length of sequences in alignment')\n",
        "        break\n",
        "      else:\n",
        "        for x, y in zip(seq1, seq2): #Iterating over seq1 and seq2 in tandem\n",
        "          if x != y: #If a position in seq1 and seq2 is different\n",
        "            CHANGE HERE #updating the Hamming distance of the sequences\n",
        "      D[i,j] = dist\n",
        "      D[j,i] = dist\n",
        "  return D\n",
        "\n",
        "#Using our function for calculating Hamming distances on our character matrix of dna sequences to get a distance matrix called \"mat\"\n",
        "mat = hamming(dna)\n",
        "mat"
      ],
      "metadata": {
        "id": "nZ41c3TBEjSG"
      },
      "execution_count": null,
      "outputs": []
    },
    {
      "cell_type": "markdown",
      "source": [
        "Another distance measure that is fairly straight forward to calculate in Python when you only know the sequences is the fraction of mismatches. \n",
        "\n",
        "Write a function which calculates the distance matrix using fraction of mismatches. *Hint: How can you change the function above to use fraction of mismatches instead of Hamming distance?*"
      ],
      "metadata": {
        "id": "3OvZ49ZvglkA"
      }
    },
    {
      "cell_type": "code",
      "source": [
        "def misMatchFrac(characterMatrix):\n",
        "  #Write your function here\n",
        "\n",
        "mat2 = misMatchFrac(dna)\n",
        "mat2"
      ],
      "metadata": {
        "id": "h1LyzMFGhxCd"
      },
      "execution_count": null,
      "outputs": []
    },
    {
      "cell_type": "markdown",
      "source": [
        "Dendropy can't read distance matrices from numpy arrays, it has its own format for distance matrices. To get the distance matrix into a format that Dendropy understand we are going to save our numpy array together with the taxon lables as a comma separated csv file that we then read in with Dendropy. It is a bit of a workaround, but all solutions can't be beautiful."
      ],
      "metadata": {
        "id": "KYRfiBh6HYQN"
      }
    },
    {
      "cell_type": "code",
      "source": [
        "l = [] #Creating an empty list\n",
        "for i in range(0,len(taxa)+1):\n",
        "  l.append([])\n",
        "  if i == 0:\n",
        "    l[i].append('')\n",
        "    for j in range(0,len(taxa)):\n",
        "      l[i].append(taxa.labels()[j])\n",
        "  else:\n",
        "    l[i].append(taxa.labels()[i-1])\n",
        "    for d in mat[i-1]:\n",
        "      l[i].append(str(d))\n",
        "\n",
        "np.savetxt('dino_hamming.csv', l, delimiter=',', fmt='%s')\n",
        "\n",
        "!cat dino_hamming.csv # !cat prints the file we just wrote. cat stands for \"concatenate\" and it is a bash command rather than a python command, hence why in Colab it is proceeded by ! in order to use it. Bash commands are used on Unix systems (e.g. Linux and Mac computers) to interact with the computer through text commands.\n",
        "\n",
        "#Loading the csv file with Dendropy to get it as a Dendropy distance matrix\n",
        "dmat = den.PhylogeneticDistanceMatrix.from_csv(src=open(\"dino_hamming.csv\"), delimiter=\",\")"
      ],
      "metadata": {
        "id": "KHO_ysTJInGU"
      },
      "execution_count": null,
      "outputs": []
    },
    {
      "cell_type": "markdown",
      "source": [
        "With the distance matrix in the Dendropy format we can now have Dendropy use it to construct various phylogenetic trees."
      ],
      "metadata": {
        "id": "ZFVZTGZssrfa"
      }
    },
    {
      "cell_type": "code",
      "source": [
        "#UPGMA tree\n",
        "upgma_tree = dmat.upgma_tree()\n",
        "\n",
        "print('UPGMA tree:')\n",
        "upgma_tree.print_plot()\n",
        "print(upgma_tree.as_string(\"newick\"))\n",
        "\n",
        "#Neighbour-Joning tree\n",
        "nj_tree = dmat.nj_tree()\n",
        "\n",
        "print('NJ tree:')\n",
        "nj_tree.print_plot()\n",
        "print(nj_tree.as_string(\"newick\"))\n"
      ],
      "metadata": {
        "id": "2Qsykb85tBhE"
      },
      "execution_count": null,
      "outputs": []
    },
    {
      "cell_type": "markdown",
      "source": [
        "Use the printed Newick format of the **NJ tree** and compare the tree drawn by Dendropy with the tree drawn by TreeDyn (http://www.phylogeny.fr/one_task.cgi?task_type=treedyn). When pasting the Newick format tree, be sure to include all the paranthesises and the semi-colon ; at the end.\n",
        "\n",
        "What information is not conveyed in the tree as drawn by Dendropy despite this information having been calculated?"
      ],
      "metadata": {
        "id": "sDWZWpu43MwP"
      }
    },
    {
      "cell_type": "markdown",
      "source": [
        "_________________________________________________________\n",
        "# Optional exercise\n",
        "\n",
        "Previously we have applied the UPGMA algorithm by hand, which was a fair bit of work. As the number of taxa increas or the algorithm used becomes more complex, programming is very useful as you only need to do the work of writing how the algorithm should be executed. With a function programmed that can execute the alogithm, you just need to feed data to the function rather than you yourself iterating through the algorithm by hand. However, programming a function to execute the algorithm may not be trivial.\n",
        "\n",
        "Challenge yourself to write an algorithm that constructs an UPGMA phylogenetic tree when given a distance matrix.\n",
        "\n",
        "*It is probably a good idea to break down the problem into smaller parts rather. You can start by writing functions for the separate mathematical steps in the UPGMA algorithm, i.e. calculating branch lengths and new distances for the updated distance matrix.*"
      ],
      "metadata": {
        "id": "SQiZDUv3CUPT"
      }
    },
    {
      "cell_type": "code",
      "source": [
        "#Write an UPGMA algorithm "
      ],
      "metadata": {
        "id": "CUTpFm4MEp45"
      },
      "execution_count": null,
      "outputs": []
    }
  ]
}